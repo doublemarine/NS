{
  "nbformat": 4,
  "nbformat_minor": 0,
  "metadata": {
    "colab": {
      "name": "01_動作確認.ipynb のコピー",
      "provenance": [],
      "collapsed_sections": [],
      "include_colab_link": true
    },
    "kernelspec": {
      "name": "python3",
      "display_name": "Python 3"
    }
  },
  "cells": [
    {
      "cell_type": "markdown",
      "metadata": {
        "id": "view-in-github",
        "colab_type": "text"
      },
      "source": [
        "<a href=\"https://colab.research.google.com/github/doublemarine/NS/blob/main/01_%E5%8B%95%E4%BD%9C%E7%A2%BA%E8%AA%8D_ipynb_%E3%81%AE%E3%82%B3%E3%83%94%E3%83%BC.ipynb\" target=\"_parent\"><img src=\"https://colab.research.google.com/assets/colab-badge.svg\" alt=\"Open In Colab\"/></a>"
      ]
    },
    {
      "cell_type": "markdown",
      "metadata": {
        "id": "78Kfq2-E8Gqs"
      },
      "source": [
        "# Google Colaboratory 動作確認テスト"
      ]
    },
    {
      "cell_type": "markdown",
      "metadata": {
        "id": "bQT5a-nv8Zli"
      },
      "source": [
        "以下のコードを各自実行してみてください．コードの左横の実行ボタン（▷）を押すと動作します．"
      ]
    },
    {
      "cell_type": "markdown",
      "metadata": {
        "id": "QKr4GnrD8ydi"
      },
      "source": [
        "## サンプルコード1"
      ]
    },
    {
      "cell_type": "code",
      "metadata": {
        "id": "JkD99k9W8eni"
      },
      "source": [
        "for i in range(0,10):\n",
        "  print(i)"
      ],
      "execution_count": null,
      "outputs": []
    },
    {
      "cell_type": "markdown",
      "metadata": {
        "id": "XaFxHCRG_FyY"
      },
      "source": [
        "##サンプルコード2"
      ]
    },
    {
      "cell_type": "code",
      "metadata": {
        "id": "ZRdzcuGU_Kko"
      },
      "source": [
        "if [3,2,3] == [2,3,3]:\n",
        "    print(\"True\")\n",
        "else:\n",
        "    print(\"False\")\n",
        "\n",
        "\n",
        "if {3,2,3} == {2,3,3}:\n",
        "    print(\"True\")\n",
        "else:\n",
        "    print(\"false\")\n",
        "\n",
        "\n",
        "x = [10, 20, 30, 40]\n",
        "print(x)\n",
        "print(x[1])\n"
      ],
      "execution_count": null,
      "outputs": []
    },
    {
      "cell_type": "markdown",
      "metadata": {
        "id": "ZBPmH0tf85Ho"
      },
      "source": [
        "## サンプルコード3"
      ]
    },
    {
      "cell_type": "code",
      "metadata": {
        "id": "DQPrhuU989L-"
      },
      "source": [
        "#関数定義1\n",
        "def sort(A):\n",
        "    for i in range(1,len(A)):\n",
        "        insert(A,i)\n",
        "\n",
        "#関数定義2\n",
        "def insert(A,i):\n",
        "    temp = A[i]\n",
        "    for j in range(i-1, -1, -1):\n",
        "        if temp < A[j]:\n",
        "            A[j+1] = A[j]\n",
        "        else:\n",
        "            A[j+1] = temp\n",
        "            break\n",
        "    else:\n",
        "        A[0] = temp\n",
        "\n",
        "\n",
        "#データ用意\n",
        "A = [2,9,5,7,4,1,8]\n",
        "\n",
        "print(\"ソート前：\", A)\n",
        "\n",
        "#ソート実行\n",
        "sort(A)\n",
        "\n",
        "print(\"ソート後：\", A)"
      ],
      "execution_count": null,
      "outputs": []
    },
    {
      "cell_type": "markdown",
      "metadata": {
        "id": "ON1dprRHkAU-"
      },
      "source": [
        "## グラフプロット"
      ]
    },
    {
      "cell_type": "code",
      "metadata": {
        "id": "Zjaor_J9kCkC"
      },
      "source": [
        "import numpy as np\n",
        "import matplotlib.pyplot as plt\n",
        "\n",
        "x = np.linspace(0,10,100)\n",
        "y = x*x\n",
        "plt.plot(x,y)\n",
        "plt.show()"
      ],
      "execution_count": null,
      "outputs": []
    }
  ]
}